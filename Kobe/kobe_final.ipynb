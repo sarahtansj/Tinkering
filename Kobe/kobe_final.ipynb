{
 "cells": [
  {
   "cell_type": "markdown",
   "metadata": {},
   "source": [
    "## Predicting Shots Made Per Game by Kobe Bryant\n",
    "\n",
    "*Predict how many shots Kobe Bryant made per game*\n",
    "\n",
    "**Dataset:** https://www.kaggle.com/c/kobe-bryant-shot-selection/data\n",
    "\n",
    "**Approach:**\n",
    "\n",
    "Exploring regularization techniques on linear regression model\n",
    "- RidgeCV \n",
    "- LassoCV\n",
    "- Elastic Net\n",
    "\n"
   ]
  },
  {
   "cell_type": "markdown",
   "metadata": {},
   "source": [
    "### I. Load packages and data."
   ]
  },
  {
   "cell_type": "code",
   "execution_count": 1,
   "metadata": {},
   "outputs": [],
   "source": [
    "import numpy as np\n",
    "import pandas as pd\n",
    "import patsy\n",
    "\n",
    "from sklearn.linear_model import Ridge, Lasso, ElasticNet, LinearRegression, RidgeCV, LassoCV, ElasticNetCV\n",
    "from sklearn.model_selection import cross_val_score\n",
    "\n",
    "import matplotlib\n",
    "import matplotlib.pyplot as plt\n",
    "import seaborn as sns\n",
    "plt.style.use('fivethirtyeight')\n",
    "\n",
    "%config InlineBackend.figure_format = 'retina'\n",
    "%matplotlib inline"
   ]
  },
  {
   "cell_type": "code",
   "execution_count": 2,
   "metadata": {},
   "outputs": [],
   "source": [
    "kobe = pd.read_csv('./datasets/kobe_superwide_games.csv')"
   ]
  },
  {
   "cell_type": "code",
   "execution_count": 3,
   "metadata": {},
   "outputs": [
    {
     "data": {
      "text/html": [
       "<div>\n",
       "<style scoped>\n",
       "    .dataframe tbody tr th:only-of-type {\n",
       "        vertical-align: middle;\n",
       "    }\n",
       "\n",
       "    .dataframe tbody tr th {\n",
       "        vertical-align: top;\n",
       "    }\n",
       "\n",
       "    .dataframe thead th {\n",
       "        text-align: right;\n",
       "    }\n",
       "</style>\n",
       "<table border=\"1\" class=\"dataframe\">\n",
       "  <thead>\n",
       "    <tr style=\"text-align: right;\">\n",
       "      <th></th>\n",
       "      <th>SHOTS_MADE</th>\n",
       "      <th>AWAY_GAME</th>\n",
       "      <th>SEASON_OPPONENT:atl:1996-97</th>\n",
       "      <th>SEASON_OPPONENT:atl:1997-98</th>\n",
       "      <th>SEASON_OPPONENT:atl:1999-00</th>\n",
       "      <th>SEASON_OPPONENT:atl:2000-01</th>\n",
       "      <th>SEASON_OPPONENT:atl:2001-02</th>\n",
       "      <th>SEASON_OPPONENT:atl:2002-03</th>\n",
       "      <th>SEASON_OPPONENT:atl:2003-04</th>\n",
       "      <th>SEASON_OPPONENT:atl:2004-05</th>\n",
       "      <th>...</th>\n",
       "      <th>ACTION_TYPE:tip_layup_shot</th>\n",
       "      <th>ACTION_TYPE:tip_shot</th>\n",
       "      <th>ACTION_TYPE:turnaround_bank_shot</th>\n",
       "      <th>ACTION_TYPE:turnaround_fadeaway_bank_jump_shot</th>\n",
       "      <th>ACTION_TYPE:turnaround_fadeaway_shot</th>\n",
       "      <th>ACTION_TYPE:turnaround_finger_roll_shot</th>\n",
       "      <th>ACTION_TYPE:turnaround_hook_shot</th>\n",
       "      <th>ACTION_TYPE:turnaround_jump_shot</th>\n",
       "      <th>SEASON_GAME_NUMBER</th>\n",
       "      <th>CAREER_GAME_NUMBER</th>\n",
       "    </tr>\n",
       "  </thead>\n",
       "  <tbody>\n",
       "    <tr>\n",
       "      <th>0</th>\n",
       "      <td>0.0</td>\n",
       "      <td>0</td>\n",
       "      <td>0.0</td>\n",
       "      <td>0.0</td>\n",
       "      <td>0.0</td>\n",
       "      <td>0.0</td>\n",
       "      <td>0.0</td>\n",
       "      <td>0.0</td>\n",
       "      <td>0.0</td>\n",
       "      <td>0.0</td>\n",
       "      <td>...</td>\n",
       "      <td>0.0</td>\n",
       "      <td>0.0</td>\n",
       "      <td>0.0</td>\n",
       "      <td>0.0</td>\n",
       "      <td>0.0</td>\n",
       "      <td>0.0</td>\n",
       "      <td>0.0</td>\n",
       "      <td>0.0</td>\n",
       "      <td>1</td>\n",
       "      <td>1</td>\n",
       "    </tr>\n",
       "    <tr>\n",
       "      <th>1</th>\n",
       "      <td>0.0</td>\n",
       "      <td>1</td>\n",
       "      <td>0.0</td>\n",
       "      <td>0.0</td>\n",
       "      <td>0.0</td>\n",
       "      <td>0.0</td>\n",
       "      <td>0.0</td>\n",
       "      <td>0.0</td>\n",
       "      <td>0.0</td>\n",
       "      <td>0.0</td>\n",
       "      <td>...</td>\n",
       "      <td>0.0</td>\n",
       "      <td>0.0</td>\n",
       "      <td>0.0</td>\n",
       "      <td>0.0</td>\n",
       "      <td>0.0</td>\n",
       "      <td>0.0</td>\n",
       "      <td>0.0</td>\n",
       "      <td>0.0</td>\n",
       "      <td>2</td>\n",
       "      <td>2</td>\n",
       "    </tr>\n",
       "    <tr>\n",
       "      <th>2</th>\n",
       "      <td>2.0</td>\n",
       "      <td>1</td>\n",
       "      <td>0.0</td>\n",
       "      <td>0.0</td>\n",
       "      <td>0.0</td>\n",
       "      <td>0.0</td>\n",
       "      <td>0.0</td>\n",
       "      <td>0.0</td>\n",
       "      <td>0.0</td>\n",
       "      <td>0.0</td>\n",
       "      <td>...</td>\n",
       "      <td>0.0</td>\n",
       "      <td>0.0</td>\n",
       "      <td>0.0</td>\n",
       "      <td>0.0</td>\n",
       "      <td>0.0</td>\n",
       "      <td>0.0</td>\n",
       "      <td>0.0</td>\n",
       "      <td>0.0</td>\n",
       "      <td>3</td>\n",
       "      <td>3</td>\n",
       "    </tr>\n",
       "    <tr>\n",
       "      <th>3</th>\n",
       "      <td>2.0</td>\n",
       "      <td>1</td>\n",
       "      <td>0.0</td>\n",
       "      <td>0.0</td>\n",
       "      <td>0.0</td>\n",
       "      <td>0.0</td>\n",
       "      <td>0.0</td>\n",
       "      <td>0.0</td>\n",
       "      <td>0.0</td>\n",
       "      <td>0.0</td>\n",
       "      <td>...</td>\n",
       "      <td>0.0</td>\n",
       "      <td>0.0</td>\n",
       "      <td>0.0</td>\n",
       "      <td>0.0</td>\n",
       "      <td>0.0</td>\n",
       "      <td>0.0</td>\n",
       "      <td>0.0</td>\n",
       "      <td>0.0</td>\n",
       "      <td>4</td>\n",
       "      <td>4</td>\n",
       "    </tr>\n",
       "    <tr>\n",
       "      <th>4</th>\n",
       "      <td>0.0</td>\n",
       "      <td>0</td>\n",
       "      <td>1.0</td>\n",
       "      <td>0.0</td>\n",
       "      <td>0.0</td>\n",
       "      <td>0.0</td>\n",
       "      <td>0.0</td>\n",
       "      <td>0.0</td>\n",
       "      <td>0.0</td>\n",
       "      <td>0.0</td>\n",
       "      <td>...</td>\n",
       "      <td>0.0</td>\n",
       "      <td>0.0</td>\n",
       "      <td>0.0</td>\n",
       "      <td>0.0</td>\n",
       "      <td>0.0</td>\n",
       "      <td>0.0</td>\n",
       "      <td>0.0</td>\n",
       "      <td>0.0</td>\n",
       "      <td>5</td>\n",
       "      <td>5</td>\n",
       "    </tr>\n",
       "  </tbody>\n",
       "</table>\n",
       "<p>5 rows × 645 columns</p>\n",
       "</div>"
      ],
      "text/plain": [
       "   SHOTS_MADE  AWAY_GAME  SEASON_OPPONENT:atl:1996-97  \\\n",
       "0         0.0          0                          0.0   \n",
       "1         0.0          1                          0.0   \n",
       "2         2.0          1                          0.0   \n",
       "3         2.0          1                          0.0   \n",
       "4         0.0          0                          1.0   \n",
       "\n",
       "   SEASON_OPPONENT:atl:1997-98  SEASON_OPPONENT:atl:1999-00  \\\n",
       "0                          0.0                          0.0   \n",
       "1                          0.0                          0.0   \n",
       "2                          0.0                          0.0   \n",
       "3                          0.0                          0.0   \n",
       "4                          0.0                          0.0   \n",
       "\n",
       "   SEASON_OPPONENT:atl:2000-01  SEASON_OPPONENT:atl:2001-02  \\\n",
       "0                          0.0                          0.0   \n",
       "1                          0.0                          0.0   \n",
       "2                          0.0                          0.0   \n",
       "3                          0.0                          0.0   \n",
       "4                          0.0                          0.0   \n",
       "\n",
       "   SEASON_OPPONENT:atl:2002-03  SEASON_OPPONENT:atl:2003-04  \\\n",
       "0                          0.0                          0.0   \n",
       "1                          0.0                          0.0   \n",
       "2                          0.0                          0.0   \n",
       "3                          0.0                          0.0   \n",
       "4                          0.0                          0.0   \n",
       "\n",
       "   SEASON_OPPONENT:atl:2004-05         ...          \\\n",
       "0                          0.0         ...           \n",
       "1                          0.0         ...           \n",
       "2                          0.0         ...           \n",
       "3                          0.0         ...           \n",
       "4                          0.0         ...           \n",
       "\n",
       "   ACTION_TYPE:tip_layup_shot  ACTION_TYPE:tip_shot  \\\n",
       "0                         0.0                   0.0   \n",
       "1                         0.0                   0.0   \n",
       "2                         0.0                   0.0   \n",
       "3                         0.0                   0.0   \n",
       "4                         0.0                   0.0   \n",
       "\n",
       "   ACTION_TYPE:turnaround_bank_shot  \\\n",
       "0                               0.0   \n",
       "1                               0.0   \n",
       "2                               0.0   \n",
       "3                               0.0   \n",
       "4                               0.0   \n",
       "\n",
       "   ACTION_TYPE:turnaround_fadeaway_bank_jump_shot  \\\n",
       "0                                             0.0   \n",
       "1                                             0.0   \n",
       "2                                             0.0   \n",
       "3                                             0.0   \n",
       "4                                             0.0   \n",
       "\n",
       "   ACTION_TYPE:turnaround_fadeaway_shot  \\\n",
       "0                                   0.0   \n",
       "1                                   0.0   \n",
       "2                                   0.0   \n",
       "3                                   0.0   \n",
       "4                                   0.0   \n",
       "\n",
       "   ACTION_TYPE:turnaround_finger_roll_shot  ACTION_TYPE:turnaround_hook_shot  \\\n",
       "0                                      0.0                               0.0   \n",
       "1                                      0.0                               0.0   \n",
       "2                                      0.0                               0.0   \n",
       "3                                      0.0                               0.0   \n",
       "4                                      0.0                               0.0   \n",
       "\n",
       "   ACTION_TYPE:turnaround_jump_shot  SEASON_GAME_NUMBER  CAREER_GAME_NUMBER  \n",
       "0                               0.0                   1                   1  \n",
       "1                               0.0                   2                   2  \n",
       "2                               0.0                   3                   3  \n",
       "3                               0.0                   4                   4  \n",
       "4                               0.0                   5                   5  \n",
       "\n",
       "[5 rows x 645 columns]"
      ]
     },
     "execution_count": 3,
     "metadata": {},
     "output_type": "execute_result"
    }
   ],
   "source": [
    "kobe.head()"
   ]
  },
  {
   "cell_type": "code",
   "execution_count": 4,
   "metadata": {},
   "outputs": [
    {
     "data": {
      "text/plain": [
       "(1558, 645)"
      ]
     },
     "execution_count": 4,
     "metadata": {},
     "output_type": "execute_result"
    }
   ],
   "source": [
    "kobe.shape"
   ]
  },
  {
   "cell_type": "markdown",
   "metadata": {},
   "source": [
    "### II. Examining the data."
   ]
  },
  {
   "cell_type": "code",
   "execution_count": 5,
   "metadata": {},
   "outputs": [
    {
     "name": "stdout",
     "output_type": "stream",
     "text": [
      "Columns: 645\n"
     ]
    }
   ],
   "source": [
    "print('Columns:', len(kobe.columns))"
   ]
  },
  {
   "cell_type": "code",
   "execution_count": 6,
   "metadata": {},
   "outputs": [
    {
     "name": "stdout",
     "output_type": "stream",
     "text": [
      "Index(['SHOTS_MADE', 'AWAY_GAME', 'SEASON_OPPONENT:atl:1996-97',\n",
      "       'SEASON_OPPONENT:atl:1997-98', 'SEASON_OPPONENT:atl:1999-00',\n",
      "       'SEASON_OPPONENT:atl:2000-01', 'SEASON_OPPONENT:atl:2001-02',\n",
      "       'SEASON_OPPONENT:atl:2002-03', 'SEASON_OPPONENT:atl:2003-04',\n",
      "       'SEASON_OPPONENT:atl:2004-05', 'SEASON_OPPONENT:atl:2005-06',\n",
      "       'SEASON_OPPONENT:atl:2006-07', 'SEASON_OPPONENT:atl:2007-08',\n",
      "       'SEASON_OPPONENT:atl:2008-09', 'SEASON_OPPONENT:atl:2009-10',\n",
      "       'SEASON_OPPONENT:atl:2010-11', 'SEASON_OPPONENT:atl:2011-12',\n",
      "       'SEASON_OPPONENT:atl:2012-13', 'SEASON_OPPONENT:atl:2013-14',\n",
      "       'SEASON_OPPONENT:atl:2014-15'],\n",
      "      dtype='object')\n"
     ]
    }
   ],
   "source": [
    "print(kobe.columns[0:20])"
   ]
  },
  {
   "cell_type": "markdown",
   "metadata": {},
   "source": [
    "**Observations:**\n",
    "\n",
    "SHOTS_MADE will be the target variable for prediction.\n",
    "\n",
    "Feature selection will have to be performed as there are many columns (645), and many columns represent similar things, so there is the issue of multicollinearity.\n"
   ]
  },
  {
   "cell_type": "markdown",
   "metadata": {},
   "source": [
    "### III. Create predictor and target variables. Standardize the predictors.\n"
   ]
  },
  {
   "cell_type": "code",
   "execution_count": 7,
   "metadata": {},
   "outputs": [],
   "source": [
    "y = kobe.SHOTS_MADE.values\n",
    "X = kobe.iloc[:,1:]\n",
    "\n",
    "# Initialize the StandardScaler object.\n",
    "from sklearn.preprocessing import StandardScaler\n",
    "\n",
    "ss = StandardScaler()\n",
    "\n",
    "# Use the \"fit_transform\" function to standardize the X design matrix.\n",
    "Xs = ss.fit_transform(X)"
   ]
  },
  {
   "cell_type": "markdown",
   "metadata": {},
   "source": [
    "### IV. Building a linear regression predicting SHOTS_MADE from the rest of the columns."
   ]
  },
  {
   "cell_type": "code",
   "execution_count": 8,
   "metadata": {},
   "outputs": [
    {
     "name": "stdout",
     "output_type": "stream",
     "text": [
      "[-1.79977947e+29 -1.56491766e+28 -6.34863163e+27 -2.62406933e+27\n",
      " -1.57635452e+28 -3.07382964e+27 -6.38281933e+27 -5.84388364e+27\n",
      " -5.19939021e+27 -3.77445313e+28]\n",
      "-2.7860782364257116e+28\n"
     ]
    }
   ],
   "source": [
    "linreg = LinearRegression()\n",
    "\n",
    "linreg_scores = cross_val_score(linreg, Xs, y, cv=10)\n",
    "\n",
    "print(linreg_scores)\n",
    "print(np.mean(linreg_scores))"
   ]
  },
  {
   "cell_type": "markdown",
   "metadata": {
    "collapsed": true
   },
   "source": [
    "**Observations:**\n",
    "\n",
    "The mean R^2 is extremely negative. \n",
    "The linear regression is performing far worse than the baseline on the testing sets.\n",
    "This is probably due to overfitting."
   ]
  },
  {
   "cell_type": "markdown",
   "metadata": {},
   "source": [
    "### V. Using RidgeCV"
   ]
  },
  {
   "cell_type": "code",
   "execution_count": 9,
   "metadata": {},
   "outputs": [
    {
     "name": "stdout",
     "output_type": "stream",
     "text": [
      "910.2981779915227\n"
     ]
    }
   ],
   "source": [
    "ridge_alphas = np.logspace(-2, 7, 50)\n",
    "\n",
    "optimal_ridge = RidgeCV(alphas=ridge_alphas, cv=10)\n",
    "optimal_ridge.fit(Xs, y)\n",
    "\n",
    "print(optimal_ridge.alpha_)"
   ]
  },
  {
   "cell_type": "code",
   "execution_count": 10,
   "metadata": {},
   "outputs": [
    {
     "name": "stdout",
     "output_type": "stream",
     "text": [
      "[0.564539   0.52759942 0.48654074 0.59889514 0.52757419 0.52897799\n",
      " 0.52767583 0.41256579 0.40442795 0.44688295]\n",
      "0.5025679004240269\n"
     ]
    }
   ],
   "source": [
    "ridge = Ridge(alpha=optimal_ridge.alpha_)\n",
    "\n",
    "ridge_scores = cross_val_score(ridge, Xs, y, cv=10)\n",
    "\n",
    "print(ridge_scores)\n",
    "print(np.mean(ridge_scores))"
   ]
  },
  {
   "cell_type": "markdown",
   "metadata": {},
   "source": [
    "### VI. Using LassoCV"
   ]
  },
  {
   "cell_type": "code",
   "execution_count": 11,
   "metadata": {},
   "outputs": [
    {
     "name": "stderr",
     "output_type": "stream",
     "text": [
      "........................................................................................................................................................................................................................................................................................................................................................................................................................................................................................................................................................................................................................................................................................................................................................................................................................................................................................................................................................................................................................................................................................................................................................................................................................................................................................................................................................................................................................................................................................................................................................................................................................................................................................................................................................................................................................................................................................................................................................................................................................................................................................................................................................................................................................................................................................................................................................................................................................................................................................................................................................................................................................................................................................................................................................................................................................................................................................................................................................................................................................................................................................................................................................................................................................................................................................................................................................................................................................................................................................................................................................................................................................................................................................................................................................................................................................................................................................................................................................................................................................................................................................................................................................................................................................................................................................................................................................................................................................................................................................................................................................................................................................................................................................................................................................................................................................................................................................................................................................................................................................................................................................................................................................................................................[Parallel(n_jobs=1)]: Done  10 out of  10 | elapsed:   23.6s finished\n"
     ]
    },
    {
     "name": "stdout",
     "output_type": "stream",
     "text": [
      "0.06790539979326354\n"
     ]
    }
   ],
   "source": [
    "optimal_lasso = LassoCV(n_alphas=500, cv=10, verbose=1)\n",
    "optimal_lasso.fit(Xs, y)\n",
    "\n",
    "print(optimal_lasso.alpha_)"
   ]
  },
  {
   "cell_type": "code",
   "execution_count": 12,
   "metadata": {},
   "outputs": [
    {
     "name": "stdout",
     "output_type": "stream",
     "text": [
      "[0.61603625 0.52641159 0.53888743 0.61322432 0.54627539 0.5554072\n",
      " 0.52716822 0.44849563 0.4646267  0.51838952]\n",
      "0.5354922262084527\n"
     ]
    }
   ],
   "source": [
    "lasso = Lasso(alpha=optimal_lasso.alpha_)\n",
    "\n",
    "lasso_scores = cross_val_score(lasso, Xs, y, cv=10)\n",
    "\n",
    "print(lasso_scores)\n",
    "print(np.mean(lasso_scores))"
   ]
  },
  {
   "cell_type": "code",
   "execution_count": 13,
   "metadata": {},
   "outputs": [
    {
     "data": {
      "text/plain": [
       "Lasso(alpha=0.06790539979326354, copy_X=True, fit_intercept=True,\n",
       "   max_iter=1000, normalize=False, positive=False, precompute=False,\n",
       "   random_state=None, selection='cyclic', tol=0.0001, warm_start=False)"
      ]
     },
     "execution_count": 13,
     "metadata": {},
     "output_type": "execute_result"
    }
   ],
   "source": [
    "lasso.fit(Xs, y)"
   ]
  },
  {
   "cell_type": "code",
   "execution_count": 14,
   "metadata": {},
   "outputs": [
    {
     "data": {
      "text/html": [
       "<div>\n",
       "<style scoped>\n",
       "    .dataframe tbody tr th:only-of-type {\n",
       "        vertical-align: middle;\n",
       "    }\n",
       "\n",
       "    .dataframe tbody tr th {\n",
       "        vertical-align: top;\n",
       "    }\n",
       "\n",
       "    .dataframe thead th {\n",
       "        text-align: right;\n",
       "    }\n",
       "</style>\n",
       "<table border=\"1\" class=\"dataframe\">\n",
       "  <thead>\n",
       "    <tr style=\"text-align: right;\">\n",
       "      <th></th>\n",
       "      <th>variable</th>\n",
       "      <th>coef</th>\n",
       "      <th>abs_coef</th>\n",
       "    </tr>\n",
       "  </thead>\n",
       "  <tbody>\n",
       "    <tr>\n",
       "      <th>579</th>\n",
       "      <td>COMBINED_SHOT_TYPE:jump_shot</td>\n",
       "      <td>1.233880</td>\n",
       "      <td>1.233880</td>\n",
       "    </tr>\n",
       "    <tr>\n",
       "      <th>574</th>\n",
       "      <td>SHOT_TYPE:2pt_field_goal</td>\n",
       "      <td>0.866201</td>\n",
       "      <td>0.866201</td>\n",
       "    </tr>\n",
       "    <tr>\n",
       "      <th>566</th>\n",
       "      <td>SHOT_ZONE_BASIC:restricted_area</td>\n",
       "      <td>0.453050</td>\n",
       "      <td>0.453050</td>\n",
       "    </tr>\n",
       "    <tr>\n",
       "      <th>577</th>\n",
       "      <td>COMBINED_SHOT_TYPE:dunk</td>\n",
       "      <td>0.274926</td>\n",
       "      <td>0.274926</td>\n",
       "    </tr>\n",
       "    <tr>\n",
       "      <th>611</th>\n",
       "      <td>ACTION_TYPE:jump_shot</td>\n",
       "      <td>-0.272130</td>\n",
       "      <td>0.272130</td>\n",
       "    </tr>\n",
       "    <tr>\n",
       "      <th>575</th>\n",
       "      <td>SHOT_TYPE:3pt_field_goal</td>\n",
       "      <td>0.140492</td>\n",
       "      <td>0.140492</td>\n",
       "    </tr>\n",
       "    <tr>\n",
       "      <th>582</th>\n",
       "      <td>SECONDS_REMAINING</td>\n",
       "      <td>0.132360</td>\n",
       "      <td>0.132360</td>\n",
       "    </tr>\n",
       "    <tr>\n",
       "      <th>612</th>\n",
       "      <td>ACTION_TYPE:layup_shot</td>\n",
       "      <td>-0.129658</td>\n",
       "      <td>0.129658</td>\n",
       "    </tr>\n",
       "    <tr>\n",
       "      <th>423</th>\n",
       "      <td>SEASON_OPPONENT:sac:1999-00</td>\n",
       "      <td>0.127065</td>\n",
       "      <td>0.127065</td>\n",
       "    </tr>\n",
       "    <tr>\n",
       "      <th>561</th>\n",
       "      <td>SHOT_ZONE_BASIC:above_the_break_3</td>\n",
       "      <td>0.118469</td>\n",
       "      <td>0.118469</td>\n",
       "    </tr>\n",
       "    <tr>\n",
       "      <th>233</th>\n",
       "      <td>SEASON_OPPONENT:mem:2009-10</td>\n",
       "      <td>0.116944</td>\n",
       "      <td>0.116944</td>\n",
       "    </tr>\n",
       "    <tr>\n",
       "      <th>549</th>\n",
       "      <td>SEASON:2015-16</td>\n",
       "      <td>-0.115167</td>\n",
       "      <td>0.115167</td>\n",
       "    </tr>\n",
       "    <tr>\n",
       "      <th>333</th>\n",
       "      <td>SEASON_OPPONENT:nyk:2008-09</td>\n",
       "      <td>0.111245</td>\n",
       "      <td>0.111245</td>\n",
       "    </tr>\n",
       "    <tr>\n",
       "      <th>569</th>\n",
       "      <td>SHOT_ZONE_AREA:center(c)</td>\n",
       "      <td>0.104304</td>\n",
       "      <td>0.104304</td>\n",
       "    </tr>\n",
       "    <tr>\n",
       "      <th>395</th>\n",
       "      <td>SEASON_OPPONENT:phx:2009-10</td>\n",
       "      <td>0.099200</td>\n",
       "      <td>0.099200</td>\n",
       "    </tr>\n",
       "    <tr>\n",
       "      <th>594</th>\n",
       "      <td>ACTION_TYPE:driving_floating_jump_shot</td>\n",
       "      <td>-0.096740</td>\n",
       "      <td>0.096740</td>\n",
       "    </tr>\n",
       "    <tr>\n",
       "      <th>466</th>\n",
       "      <td>SEASON_OPPONENT:sea:2004-05</td>\n",
       "      <td>0.094990</td>\n",
       "      <td>0.094990</td>\n",
       "    </tr>\n",
       "    <tr>\n",
       "      <th>38</th>\n",
       "      <td>SEASON_OPPONENT:bos:2015-16</td>\n",
       "      <td>-0.089163</td>\n",
       "      <td>0.089163</td>\n",
       "    </tr>\n",
       "    <tr>\n",
       "      <th>556</th>\n",
       "      <td>SHOT_ZONE_RANGE:16-24_ft.</td>\n",
       "      <td>0.079334</td>\n",
       "      <td>0.079334</td>\n",
       "    </tr>\n",
       "    <tr>\n",
       "      <th>456</th>\n",
       "      <td>SEASON_OPPONENT:sas:2014-15</td>\n",
       "      <td>-0.075074</td>\n",
       "      <td>0.075074</td>\n",
       "    </tr>\n",
       "  </tbody>\n",
       "</table>\n",
       "</div>"
      ],
      "text/plain": [
       "                                   variable      coef  abs_coef\n",
       "579            COMBINED_SHOT_TYPE:jump_shot  1.233880  1.233880\n",
       "574                SHOT_TYPE:2pt_field_goal  0.866201  0.866201\n",
       "566         SHOT_ZONE_BASIC:restricted_area  0.453050  0.453050\n",
       "577                 COMBINED_SHOT_TYPE:dunk  0.274926  0.274926\n",
       "611                   ACTION_TYPE:jump_shot -0.272130  0.272130\n",
       "575                SHOT_TYPE:3pt_field_goal  0.140492  0.140492\n",
       "582                       SECONDS_REMAINING  0.132360  0.132360\n",
       "612                  ACTION_TYPE:layup_shot -0.129658  0.129658\n",
       "423             SEASON_OPPONENT:sac:1999-00  0.127065  0.127065\n",
       "561       SHOT_ZONE_BASIC:above_the_break_3  0.118469  0.118469\n",
       "233             SEASON_OPPONENT:mem:2009-10  0.116944  0.116944\n",
       "549                          SEASON:2015-16 -0.115167  0.115167\n",
       "333             SEASON_OPPONENT:nyk:2008-09  0.111245  0.111245\n",
       "569                SHOT_ZONE_AREA:center(c)  0.104304  0.104304\n",
       "395             SEASON_OPPONENT:phx:2009-10  0.099200  0.099200\n",
       "594  ACTION_TYPE:driving_floating_jump_shot -0.096740  0.096740\n",
       "466             SEASON_OPPONENT:sea:2004-05  0.094990  0.094990\n",
       "38              SEASON_OPPONENT:bos:2015-16 -0.089163  0.089163\n",
       "556               SHOT_ZONE_RANGE:16-24_ft.  0.079334  0.079334\n",
       "456             SEASON_OPPONENT:sas:2014-15 -0.075074  0.075074"
      ]
     },
     "execution_count": 14,
     "metadata": {},
     "output_type": "execute_result"
    }
   ],
   "source": [
    "lasso_coefs = pd.DataFrame({'variable':X.columns,\n",
    "                            'coef':lasso.coef_,\n",
    "                            'abs_coef':np.abs(lasso.coef_)})\n",
    "\n",
    "lasso_coefs.sort_values('abs_coef', inplace=True, ascending=False)\n",
    "\n",
    "lasso_coefs.head(20)"
   ]
  },
  {
   "cell_type": "code",
   "execution_count": 15,
   "metadata": {},
   "outputs": [
    {
     "name": "stdout",
     "output_type": "stream",
     "text": [
      "Percent variables zeroed out: 0.7888198757763976\n"
     ]
    }
   ],
   "source": [
    "print('Percent variables zeroed out:', np.sum((lasso.coef_ == 0))/float(len(lasso.coef_)))"
   ]
  },
  {
   "cell_type": "markdown",
   "metadata": {},
   "source": [
    "### VII. Using ElasticNetCV"
   ]
  },
  {
   "cell_type": "code",
   "execution_count": 16,
   "metadata": {},
   "outputs": [
    {
     "name": "stderr",
     "output_type": "stream",
     "text": [
      "/anaconda3/lib/python3.6/site-packages/sklearn/linear_model/coordinate_descent.py:491: ConvergenceWarning: Objective did not converge. You might want to increase the number of iterations. Fitting data with very small alpha may cause precision problems.\n",
      "  ConvergenceWarning)\n",
      "/anaconda3/lib/python3.6/site-packages/sklearn/linear_model/coordinate_descent.py:491: ConvergenceWarning: Objective did not converge. You might want to increase the number of iterations. Fitting data with very small alpha may cause precision problems.\n",
      "  ConvergenceWarning)\n",
      "/anaconda3/lib/python3.6/site-packages/sklearn/linear_model/coordinate_descent.py:491: ConvergenceWarning: Objective did not converge. You might want to increase the number of iterations. Fitting data with very small alpha may cause precision problems.\n",
      "  ConvergenceWarning)\n",
      "/anaconda3/lib/python3.6/site-packages/sklearn/linear_model/coordinate_descent.py:491: ConvergenceWarning: Objective did not converge. You might want to increase the number of iterations. Fitting data with very small alpha may cause precision problems.\n",
      "  ConvergenceWarning)\n",
      "/anaconda3/lib/python3.6/site-packages/sklearn/linear_model/coordinate_descent.py:491: ConvergenceWarning: Objective did not converge. You might want to increase the number of iterations. Fitting data with very small alpha may cause precision problems.\n",
      "  ConvergenceWarning)\n"
     ]
    },
    {
     "name": "stdout",
     "output_type": "stream",
     "text": [
      "0.07685093298363148\n",
      "0.9587500000000001\n"
     ]
    }
   ],
   "source": [
    "l1_ratios = np.linspace(0.01, 1.0, 25)\n",
    "\n",
    "optimal_enet = ElasticNetCV(l1_ratio=l1_ratios, n_alphas=30, cv=10)\n",
    "optimal_enet.fit(Xs, y)\n",
    "\n",
    "print(optimal_enet.alpha_)\n",
    "print(optimal_enet.l1_ratio_)"
   ]
  },
  {
   "cell_type": "code",
   "execution_count": 17,
   "metadata": {},
   "outputs": [
    {
     "name": "stdout",
     "output_type": "stream",
     "text": [
      "[0.61442115 0.52698943 0.53876714 0.61223638 0.5482063  0.55522845\n",
      " 0.52397675 0.44858197 0.46393239 0.52269212]\n",
      "0.5355032083264541\n"
     ]
    }
   ],
   "source": [
    "enet = ElasticNet(alpha=optimal_enet.alpha_, l1_ratio=optimal_enet.l1_ratio_)\n",
    "\n",
    "enet_scores = cross_val_score(enet, Xs, y, cv=10)\n",
    "\n",
    "print(enet_scores)\n",
    "print(np.mean(enet_scores))"
   ]
  },
  {
   "cell_type": "markdown",
   "metadata": {},
   "source": [
    "**Conclusion:**\n",
    "\n",
    "RidgeCV $R^2$ score: 0.503\n",
    "\n",
    "LassoCV $R^2$ score: 0.535\n",
    "\n",
    "Elastic Net $R^2$ score: 0.536\n",
    "\n",
    "\n",
    "We can see that the elastic net approach performs about the same as lasso, which is to be expected given the\n",
    "l1_ration approaching 1 (full lasso).\n"
   ]
  }
 ],
 "metadata": {
  "kernelspec": {
   "display_name": "Python 3",
   "language": "python",
   "name": "python3"
  },
  "language_info": {
   "codemirror_mode": {
    "name": "ipython",
    "version": 3
   },
   "file_extension": ".py",
   "mimetype": "text/x-python",
   "name": "python",
   "nbconvert_exporter": "python",
   "pygments_lexer": "ipython3",
   "version": "3.6.5"
  }
 },
 "nbformat": 4,
 "nbformat_minor": 1
}
